{
 "cells": [
  {
   "cell_type": "code",
   "execution_count": 5,
   "metadata": {},
   "outputs": [
    {
     "data": {
      "text/plain": [
       "{'global_accuracy': 0.8672526875460861,\n",
       " 'global_recall': 0.6243773546290332,\n",
       " 'global_roc_auc': np.float64(0.894564061270964),\n",
       " 'global_precision': 0.6438974434263338,\n",
       " 'global_f1_score': 0.6333688610664886,\n",
       " '10_percent_accuracy': 0.8681698230363242}"
      ]
     },
     "execution_count": 5,
     "metadata": {},
     "output_type": "execute_result"
    }
   ],
   "source": [
    "from sklearn.model_selection import train_test_split\n",
    "import numpy as np\n",
    "import pandas as pd\n",
    "from sklearn.ensemble import RandomForestClassifier\n",
    "from sklearn.metrics import (\n",
    "    accuracy_score, recall_score, roc_auc_score, precision_score, f1_score\n",
    ")\n",
    "from sklearn.preprocessing import LabelEncoder\n",
    "from sklearn.impute import SimpleImputer\n",
    "from sklearn.preprocessing import StandardScaler\n",
    "\n",
    "\n",
    "# Load the dataset\n",
    "file_path = \"./Datasets/merged_UNSW_NB15.csv\"\n",
    "df = pd.read_csv(file_path)\n",
    "\n",
    "# Drop the 'label' column as it's considered a leak\n",
    "if 'label' in df.columns:\n",
    "    df = df.drop(columns=['label'])\n",
    "\n",
    "# Drop rows with missing target\n",
    "df = df.dropna(subset=['attack_cat'])\n",
    "\n",
    "# Optional encoding for target variable\n",
    "le_target = LabelEncoder()\n",
    "y = le_target.fit_transform(df['attack_cat'])\n",
    "\n",
    "# Drop target from features\n",
    "X = df.drop(columns=['attack_cat'])\n",
    "\n",
    "# Encode categorical features if needed\n",
    "for col in [\"proto\", \"service\", \"state\"]:\n",
    "    if X[col].dtype == 'object':\n",
    "        le = LabelEncoder()\n",
    "        X[col] = le.fit_transform(X[col].astype(str))\n",
    "\n",
    "# Impute and scale features\n",
    "X_imputed = SimpleImputer(strategy='mean').fit_transform(X)\n",
    "X_scaled = StandardScaler().fit_transform(X_imputed)\n",
    "\n",
    "# Split into train (70%), test (20%), final test (10%)\n",
    "X_train_val, X_test, y_train_val, y_test = train_test_split(\n",
    "    X_scaled, y, test_size=0.3, random_state=42, stratify=y\n",
    ")\n",
    "X_test_final, X_test_small, y_test_final, y_test_small = train_test_split(\n",
    "    X_test, y_test, test_size=1/3, random_state=42, stratify=y_test\n",
    ")\n",
    "\n",
    "# Train Random Forest\n",
    "clf = RandomForestClassifier(\n",
    "    n_estimators=30, max_depth=None, max_features=17, random_state=42\n",
    ")\n",
    "clf.fit(X_train_val, y_train_val)\n",
    "\n",
    "# Predict and calculate metrics\n",
    "y_pred_full = clf.predict(X_test_final)\n",
    "y_prob_full = clf.predict_proba(X_test_final)\n",
    "y_pred_small = clf.predict(X_test_small)\n",
    "\n",
    "metrics = {\n",
    "    \"global_accuracy\": accuracy_score(y_test_final, y_pred_full),\n",
    "    \"global_recall\": recall_score(y_test_final, y_pred_full, average='macro'),\n",
    "    \"global_roc_auc\": roc_auc_score(y_test_final, y_prob_full, multi_class='ovr'),\n",
    "    \"global_precision\": precision_score(y_test_final, y_pred_full, average='macro'),\n",
    "    \"global_f1_score\": f1_score(y_test_final, y_pred_full, average='macro'),\n",
    "    \"10_percent_accuracy\": accuracy_score(y_test_small, y_pred_small)\n",
    "}\n",
    "\n",
    "metrics\n"
   ]
  }
 ],
 "metadata": {
  "kernelspec": {
   "display_name": "fl",
   "language": "python",
   "name": "python3"
  },
  "language_info": {
   "codemirror_mode": {
    "name": "ipython",
    "version": 3
   },
   "file_extension": ".py",
   "mimetype": "text/x-python",
   "name": "python",
   "nbconvert_exporter": "python",
   "pygments_lexer": "ipython3",
   "version": "3.13.2"
  }
 },
 "nbformat": 4,
 "nbformat_minor": 2
}
